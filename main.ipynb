{
 "cells": [
  {
   "cell_type": "markdown",
   "metadata": {},
   "source": [
    "# datascience 3 assignment\n",
    "### Ruben Otter, 372357 (or 357372, still don't know)\n",
    "\n",
    "in this jupyter notebook file, I'm using data recorded by Max Little from the University of Oxford, in \n",
    "collaboration with the National Centre for Voice and Speech, Denver, \n",
    "Colorado, who recorded speech signals.\n",
    "\n",
    "I will test three different models on the data, to predict weather a person has parkinson or not.\n",
    "\n",
    "data: http://archive.ics.uci.edu/ml/datasets/Parkinsons\n",
    "\n",
    "Research Paper: https://www.ncbi.nlm.nih.gov/pmc/articles/PMC5434464/"
   ]
  },
  {
   "cell_type": "code",
   "execution_count": 2,
   "metadata": {},
   "outputs": [],
   "source": [
    "import pandas as pd\n",
    "from pandas_profiling import ProfileReport\n",
    "from sklearn.model_selection import train_test_split\n",
    "from sklearn.preprocessing import StandardScaler \n",
    "from sklearn.neighbors import KNeighborsClassifier\n",
    "from sklearn.metrics import classification_report, confusion_matrix, accuracy_score\n",
    "import seaborn as sns\n",
    "import matplotlib.pyplot as plt\n",
    "import numpy as np\n",
    "from matplotlib.colors import ListedColormap\n",
    "%matplotlib inline"
   ]
  },
  {
   "cell_type": "code",
   "execution_count": 3,
   "metadata": {},
   "outputs": [
    {
     "name": "stderr",
     "output_type": "stream",
     "text": [
      "Summarize dataset: 100%|██████████| 30/30 [00:00<00:00, 301.47it/s, Completed]                       \n",
      "Generate report structure: 100%|██████████| 1/1 [00:03<00:00,  3.83s/it]\n",
      "Render HTML: 100%|██████████| 1/1 [00:00<00:00,  2.42it/s]\n",
      "Export report to file: 100%|██████████| 1/1 [00:00<00:00, 398.24it/s]\n"
     ]
    }
   ],
   "source": [
    "data = pd.read_csv('data/parkinsons.data')\n",
    "data.head()\n",
    "\n",
    "profile = ProfileReport(data, minimal=True)\n",
    "profile.to_file(\"data.html\")"
   ]
  },
  {
   "cell_type": "markdown",
   "metadata": {},
   "source": [
    "## data information\n",
    "from the data report, we can see that there are no missing values. the data contains 24 variables and 195 observations, this is a relatively small dataset, so no need to perform any feature engineering.\n",
    "\n",
    "the data contains voice recordings of 31 people, of which 23 have parkinson. the aim of this program is to use the data to predict whether a person has parkinson or not.\n",
    "\n",
    "(especially in healthcare) it is important to minimalize the false negatives, so we will use different models to predict whether a person has parkinson or not and search for the best model."
   ]
  },
  {
   "cell_type": "code",
   "execution_count": 4,
   "metadata": {},
   "outputs": [],
   "source": [
    "df = data.copy()\n",
    "df.drop(['name'], axis=1, inplace=True)\n",
    "\n",
    "'''split data into train and test'''\n",
    "x_train, x_test, y_train, y_test = train_test_split(df.drop(['status'], axis=1), df['status'], test_size=0.2, random_state=0)"
   ]
  },
  {
   "cell_type": "code",
   "execution_count": 5,
   "metadata": {},
   "outputs": [],
   "source": [
    "'''normalizing the data'''\n",
    "scaler = StandardScaler()\n",
    "scaler.fit(x_train)\n",
    "\n",
    "x_train = scaler.transform(x_train)\n",
    "x_test = scaler.transform(x_test) "
   ]
  },
  {
   "cell_type": "markdown",
   "metadata": {},
   "source": [
    "# K-nearest neighbours"
   ]
  },
  {
   "cell_type": "code",
   "execution_count": 6,
   "metadata": {},
   "outputs": [
    {
     "name": "stdout",
     "output_type": "stream",
     "text": [
      "              precision    recall  f1-score   support\n",
      "\n",
      "           0       0.82      0.90      0.86        10\n",
      "           1       0.96      0.93      0.95        29\n",
      "\n",
      "    accuracy                           0.92        39\n",
      "   macro avg       0.89      0.92      0.90        39\n",
      "weighted avg       0.93      0.92      0.92        39\n",
      "\n",
      "0.9230769230769231\n"
     ]
    },
    {
     "data": {
      "text/plain": [
       "[]"
      ]
     },
     "execution_count": 6,
     "metadata": {},
     "output_type": "execute_result"
    },
    {
     "data": {
      "image/png": "[encoded data removed]",
      "text/plain": [
       "<Figure size 432x288 with 2 Axes>"
      ]
     },
     "metadata": {
      "needs_background": "light"
     },
     "output_type": "display_data"
    }
   ],
   "source": [
    "'''perform KNN'''\n",
    "\n",
    "# Use the KNN classifier to fit data:\n",
    "classifier = KNeighborsClassifier(n_neighbors=5)\n",
    "classifier.fit(x_train, y_train) \n",
    "\n",
    "# Predict y data with classifier: \n",
    "y_predict = classifier.predict(x_test)\n",
    "\n",
    "# Print results: \n",
    "#print(confusion_matrix(y_test, y_predict))\n",
    "print(classification_report(y_test, y_predict))\n",
    "print(accuracy_score(y_test, y_predict))\n",
    "\n",
    "ax = sns.heatmap(confusion_matrix(y_predict, y_test), annot=True, cmap='Blues')\n",
    "\n",
    "ax.set_title('K-nearest-neighbours\\n\\n');\n",
    "ax.set_xlabel('\\nPredicted Values')\n",
    "ax.set_ylabel('Actual Values ');\n",
    "\n",
    "## Ticket labels - List must be in alphabetical order\n",
    "ax.xaxis.set_ticklabels(['False','True'])\n",
    "ax.yaxis.set_ticklabels(['False','True'])\n",
    "\n",
    "plt.plot()"
   ]
  },
  {
   "cell_type": "markdown",
   "metadata": {},
   "source": [
    "We can see that the KNN model predicts the status of a patient quite well, the model has an accuracy of 92%, but predicted one false negative. in my opinion, the model is usable, but the user has to keep an eye out for false negatives."
   ]
  },
  {
   "cell_type": "markdown",
   "metadata": {},
   "source": [
    "# Naive bayes"
   ]
  },
  {
   "cell_type": "code",
   "execution_count": 7,
   "metadata": {},
   "outputs": [
    {
     "name": "stdout",
     "output_type": "stream",
     "text": [
      "              precision    recall  f1-score   support\n",
      "\n",
      "           0       0.45      1.00      0.62        10\n",
      "           1       1.00      0.59      0.74        29\n",
      "\n",
      "    accuracy                           0.69        39\n",
      "   macro avg       0.73      0.79      0.68        39\n",
      "weighted avg       0.86      0.69      0.71        39\n",
      "\n",
      "0.6923076923076923\n"
     ]
    },
    {
     "data": {
      "text/plain": [
       "[]"
      ]
     },
     "execution_count": 7,
     "metadata": {},
     "output_type": "execute_result"
    },
    {
     "data": {
      "image/png": "[encoded data removed]",
      "text/plain": [
       "<Figure size 432x288 with 2 Axes>"
      ]
     },
     "metadata": {
      "needs_background": "light"
     },
     "output_type": "display_data"
    }
   ],
   "source": [
    "from sklearn.naive_bayes import GaussianNB\n",
    "\n",
    "# Initialize classifier:\n",
    "gnb = GaussianNB()\n",
    "\n",
    "# Train the classifier:\n",
    "model = gnb.fit(x_train, y_train)\n",
    "# Make predictions with the classifier:\n",
    "y_predict = gnb.predict(x_test)\n",
    "\n",
    "# Evaluate label (subsets) accuracy:\n",
    "print(classification_report(y_test, y_predict))\n",
    "print(accuracy_score(y_test, y_predict))\n",
    "\n",
    "ax = sns.heatmap(confusion_matrix(y_predict, y_test), annot=True, cmap='Blues')\n",
    "\n",
    "ax.set_title('Naive bayes (gaussian DB)\\n\\n');\n",
    "ax.set_xlabel('\\nPredicted Values')\n",
    "ax.set_ylabel('Actual Values ');\n",
    "\n",
    "## Ticket labels - List must be in alphabetical order\n",
    "ax.xaxis.set_ticklabels(['False','True'])\n",
    "ax.yaxis.set_ticklabels(['False','True'])\n",
    "\n",
    "plt.plot()"
   ]
  },
  {
   "cell_type": "markdown",
   "metadata": {},
   "source": [
    "We can see that the naive bayes model is not a good model for this situation. the accuracy is only 69%, which is quite low and is even worse than the random guess (which is 74,2%), so the model does not perform well. the only good thing is that it does not predict any false negatives. I think the model does not perform well, because the data is not continuous, so it is not possible to use the naive bayes model."
   ]
  },
  {
   "cell_type": "markdown",
   "metadata": {},
   "source": [
    "# Xgboost\n",
    "last, we will use a boosting algorithm, this is a model, containing multiple machine learning models. Xgboost has won multiple machine learning competitions and is considered as one of the best models in the field."
   ]
  },
  {
   "cell_type": "code",
   "execution_count": 8,
   "metadata": {},
   "outputs": [
    {
     "name": "stdout",
     "output_type": "stream",
     "text": [
      "              precision    recall  f1-score   support\n",
      "\n",
      "           0       0.83      1.00      0.91        10\n",
      "           1       1.00      0.93      0.96        29\n",
      "\n",
      "    accuracy                           0.95        39\n",
      "   macro avg       0.92      0.97      0.94        39\n",
      "weighted avg       0.96      0.95      0.95        39\n",
      "\n",
      "0.9487179487179487\n"
     ]
    },
    {
     "data": {
      "text/plain": [
       "[]"
      ]
     },
     "execution_count": 8,
     "metadata": {},
     "output_type": "execute_result"
    },
    {
     "data": {
      "image/png": "[encoded data removed]",
      "text/plain": [
       "<Figure size 432x288 with 2 Axes>"
      ]
     },
     "metadata": {
      "needs_background": "light"
     },
     "output_type": "display_data"
    }
   ],
   "source": [
    "from xgboost import XGBClassifier\n",
    "\n",
    "model = XGBClassifier(use_label_encoder=False, eval_metric='mlogloss')\n",
    "model.fit(x_train, y_train)\n",
    "y_predict = model.predict(x_test)\n",
    "print(classification_report(y_test, y_predict))\n",
    "print(accuracy_score(y_test, y_predict))\n",
    "\n",
    "ax = sns.heatmap(confusion_matrix(y_predict, y_test), annot=True, cmap='Blues')\n",
    "\n",
    "ax.set_title('Xgboost\\n\\n');\n",
    "ax.set_xlabel('\\nPredicted Values')\n",
    "ax.set_ylabel('Actual Values ');\n",
    "\n",
    "## Ticket labels - List must be in alphabetical order\n",
    "ax.xaxis.set_ticklabels(['False','True'])\n",
    "ax.yaxis.set_ticklabels(['False','True'])\n",
    "\n",
    "plt.plot()"
   ]
  },
  {
   "cell_type": "markdown",
   "metadata": {},
   "source": [
    "## evaluation\n",
    "as we can see, the accuracy is 95%, this is a very good model. aside from this it also does not predict any false negatives, which is also really good."
   ]
  },
  {
   "cell_type": "code",
   "execution_count": 15,
   "metadata": {},
   "outputs": [
    {
     "name": "stdout",
     "output_type": "stream",
     "text": [
      "              precision    recall  f1-score   support\n",
      "\n",
      "           0       0.80      0.80      0.80        10\n",
      "           1       0.93      0.93      0.93        29\n",
      "\n",
      "    accuracy                           0.90        39\n",
      "   macro avg       0.87      0.87      0.87        39\n",
      "weighted avg       0.90      0.90      0.90        39\n",
      "\n",
      "0.8974358974358975\n"
     ]
    },
    {
     "data": {
      "text/plain": [
       "[]"
      ]
     },
     "execution_count": 15,
     "metadata": {},
     "output_type": "execute_result"
    },
    {
     "data": {
      "image/png": "[encoded data removed]",
      "text/plain": [
       "<Figure size 432x288 with 2 Axes>"
      ]
     },
     "metadata": {
      "needs_background": "light"
     },
     "output_type": "display_data"
    }
   ],
   "source": [
    "'''decision tree'''\n",
    "from sklearn.tree import DecisionTreeClassifier\n",
    "model = DecisionTreeClassifier(max_depth=5)\n",
    "model.fit(x_train, y_train)\n",
    "y_predict = model.predict(x_test)\n",
    "print(classification_report(y_test, y_predict))\n",
    "print(accuracy_score(y_test, y_predict))\n",
    "\n",
    "ax = sns.heatmap(confusion_matrix(y_predict, y_test), annot=True, cmap='Blues')\n",
    "\n",
    "ax.set_title('decision tree\\n\\n');\n",
    "ax.set_xlabel('\\nPredicted Values')\n",
    "ax.set_ylabel('Actual Values ');\n",
    "\n",
    "## Ticket labels - List must be in alphabetical order\n",
    "ax.xaxis.set_ticklabels(['False','True'])\n",
    "ax.yaxis.set_ticklabels(['False','True'])\n",
    "\n",
    "plt.plot()"
   ]
  },
  {
   "cell_type": "markdown",
   "metadata": {},
   "source": [
    "## evalutation\n",
    "\n",
    "using a decision tree classifier, we can see that the accuracy is 89,7%. this makes it not a very good model, but not a bad one either. the model predicts a lot of false negatives, which makes the model unusable for this situation."
   ]
  },
  {
   "cell_type": "code",
   "execution_count": 42,
   "metadata": {},
   "outputs": [
    {
     "name": "stdout",
     "output_type": "stream",
     "text": [
      "linear\n",
      "              precision    recall  f1-score   support\n",
      "\n",
      "           0       0.58      0.70      0.64        10\n",
      "           1       0.89      0.83      0.86        29\n",
      "\n",
      "    accuracy                           0.79        39\n",
      "   macro avg       0.74      0.76      0.75        39\n",
      "weighted avg       0.81      0.79      0.80        39\n",
      "\n",
      "0.7948717948717948\n",
      "--------------------------------------------------------\n",
      "poly\n",
      "              precision    recall  f1-score   support\n",
      "\n",
      "           0       1.00      0.60      0.75        10\n",
      "           1       0.88      1.00      0.94        29\n",
      "\n",
      "    accuracy                           0.90        39\n",
      "   macro avg       0.94      0.80      0.84        39\n",
      "weighted avg       0.91      0.90      0.89        39\n",
      "\n",
      "0.8974358974358975\n",
      "--------------------------------------------------------\n",
      "sigmoid\n",
      "              precision    recall  f1-score   support\n",
      "\n",
      "           0       0.88      0.70      0.78        10\n",
      "           1       0.90      0.97      0.93        29\n",
      "\n",
      "    accuracy                           0.90        39\n",
      "   macro avg       0.89      0.83      0.86        39\n",
      "weighted avg       0.90      0.90      0.89        39\n",
      "\n",
      "0.8974358974358975\n",
      "--------------------------------------------------------\n",
      "rbf\n",
      "              precision    recall  f1-score   support\n",
      "\n",
      "           0       1.00      0.70      0.82        10\n",
      "           1       0.91      1.00      0.95        29\n",
      "\n",
      "    accuracy                           0.92        39\n",
      "   macro avg       0.95      0.85      0.89        39\n",
      "weighted avg       0.93      0.92      0.92        39\n",
      "\n",
      "0.9230769230769231\n",
      "--------------------------------------------------------\n"
     ]
    },
    {
     "data": {
      "image/png": "[encoded data removed]",
      "text/plain": [
       "<Figure size 432x288 with 2 Axes>"
      ]
     },
     "metadata": {
      "needs_background": "light"
     },
     "output_type": "display_data"
    },
    {
     "data": {
      "image/png": "[encoded data removed]",
      "text/plain": [
       "<Figure size 432x288 with 2 Axes>"
      ]
     },
     "metadata": {
      "needs_background": "light"
     },
     "output_type": "display_data"
    },
    {
     "data": {
      "image/png": "[encoded data removed]",
      "text/plain": [
       "<Figure size 432x288 with 2 Axes>"
      ]
     },
     "metadata": {
      "needs_background": "light"
     },
     "output_type": "display_data"
    },
    {
     "data": {
      "image/png": "[encoded data removed]",
      "text/plain": [
       "<Figure size 432x288 with 2 Axes>"
      ]
     },
     "metadata": {
      "needs_background": "light"
     },
     "output_type": "display_data"
    },
    {
     "data": {
      "image/png": "[encoded data removed]",
      "text/plain": [
       "<Figure size 432x288 with 1 Axes>"
      ]
     },
     "metadata": {
      "needs_background": "light"
     },
     "output_type": "display_data"
    }
   ],
   "source": [
    "'''support vector machine'''\n",
    "from sklearn.svm import SVC\n",
    "for kernel in ['linear', 'poly', 'sigmoid', 'rbf']:\n",
    "    model = SVC(kernel=kernel)\n",
    "    model.fit(x_train, y_train)\n",
    "    y_predict = model.predict(x_test)\n",
    "    print(kernel)\n",
    "    print(classification_report(y_test, y_predict))\n",
    "    print(accuracy_score(y_test, y_predict))\n",
    "    ax = sns.heatmap(confusion_matrix(y_predict, y_test), annot=True, cmap='Blues')\n",
    "\n",
    "    ax.set_title(kernel);\n",
    "    ax.set_xlabel('\\nPredicted Values')\n",
    "    ax.set_ylabel('Actual Values ');\n",
    "\n",
    "    ## Ticket labels - List must be in alphabetical order\n",
    "    ax.xaxis.set_ticklabels(['False','True'])\n",
    "    ax.yaxis.set_ticklabels(['False','True'])\n",
    "    fig, ax = plt.subplots()\n",
    "    print('--------------------------------------------------------')\n"
   ]
  },
  {
   "cell_type": "markdown",
   "metadata": {},
   "source": [
    "# evaluation\n",
    "\n",
    "(use text editor to see full output)\n",
    "the linear kernel accuracy is quite low at 79,5%, this is not a very good model.\n",
    "\n",
    "poly and sigmoid kernels both have a sufficient, but not high accuracy of 89,7%.\n",
    "\n",
    "RBF kernel has the highest accuracy of 92%, which is usable. \n",
    "\n",
    "However:\n",
    "in my opinion, the model (with any of the kernels) is not usable for this situation, since the rate of false psoitives is using any kernel relativly high, which is not suitable for this situation."
   ]
  }
 ],
 "metadata": {
  "interpreter": {
   "hash": "edc1bf21e69f891261a36943f5833d87ed8060cb2112624a348d6396193c49a8"
  },
  "kernelspec": {
   "display_name": "Python 3.9.7 ('base')",
   "language": "python",
   "name": "python3"
  },
  "language_info": {
   "codemirror_mode": {
    "name": "ipython",
    "version": 3
   },
   "file_extension": ".py",
   "mimetype": "text/x-python",
   "name": "python",
   "nbconvert_exporter": "python",
   "pygments_lexer": "ipython3",
   "version": "3.9.7"
  },
  "orig_nbformat": 4
 },
 "nbformat": 4,
 "nbformat_minor": 2
}
